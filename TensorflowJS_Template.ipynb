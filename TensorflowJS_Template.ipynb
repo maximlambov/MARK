{
  "nbformat": 4,
  "nbformat_minor": 0,
  "metadata": {
    "colab": {
      "name": "TensorflowJS Template.ipynb",
      "provenance": [],
      "collapsed_sections": [],
      "machine_shape": "hm",
      "include_colab_link": true
    },
    "accelerator": "GPU",
    "kernelspec": {
      "name": "javascript",
      "display_name": "Javascript"
    }
  },
  "cells": [
    {
      "cell_type": "markdown",
      "metadata": {
        "id": "view-in-github",
        "colab_type": "text"
      },
      "source": [
        "<a href=\"https://colab.research.google.com/github/maximlambov/MARK/blob/master/TensorflowJS_Template.ipynb\" target=\"_parent\"><img src=\"https://colab.research.google.com/assets/colab-badge.svg\" alt=\"Open In Colab\"/></a>"
      ]
    },
    {
      "cell_type": "markdown",
      "metadata": {
        "id": "bjNF3VjPjJHV"
      },
      "source": [
        "Run cell (commands) below and then hit F5 (refresh the page) right after that"
      ]
    },
    {
      "cell_type": "code",
      "metadata": {
        "id": "ZVkF16NwcMsZ",
        "outputId": "420cf377-e723-4e15-aa90-8fa44150d104",
        "colab": {
          "base_uri": "https://localhost:8080/",
          "height": 304
        }
      },
      "source": [
        "!npm install -g --unsafe-perm ijavascript\n",
        "!ijsinstall --install=global\n",
        "!jupyter-kernelspec list"
      ],
      "execution_count": null,
      "outputs": [
        {
          "output_type": "error",
          "ename": "SyntaxError",
          "evalue": "ignored",
          "traceback": [
            "evalmachine.<anonymous>:1",
            "!npm install -g --unsafe-perm ijavascript",
            "     ^^^^^^^",
            "",
            "SyntaxError: Unexpected identifier",
            "    at new Script (vm.js:101:7)",
            "    at createScript (vm.js:262:10)",
            "    at Object.runInThisContext (vm.js:310:10)",
            "    at run ([eval]:1020:15)",
            "    at onRunRequest ([eval]:864:18)",
            "    at onMessage ([eval]:828:13)",
            "    at process.emit (events.js:315:20)",
            "    at emit (internal/child_process.js:903:12)",
            "    at processTicksAndRejections (internal/process/task_queues.js:81:21)"
          ]
        }
      ]
    },
    {
      "cell_type": "markdown",
      "metadata": {
        "id": "r2UzIt5Gi6Em"
      },
      "source": [
        "That's it! :) Now in the next cells you can write JavaScript"
      ]
    },
    {
      "cell_type": "markdown",
      "metadata": {
        "id": "MMyXtMptltc9"
      },
      "source": [
        "# Example of usage"
      ]
    },
    {
      "cell_type": "markdown",
      "metadata": {
        "id": "qbVfsd0emCWY"
      },
      "source": [
        "**Remember not to use `const` or `let`! Use `var` instead**\n",
        "\n",
        "This is how you can execute shell commands:"
      ]
    },
    {
      "cell_type": "code",
      "metadata": {
        "id": "skqAs_UHc8_P"
      },
      "source": [
        "var { spawn } = require('child_process');\n",
        "var sh = (cmd) => { \n",
        "    $$.async();\n",
        "    var sp = spawn(cmd, { cwd: process.cwd(), stdio: 'pipe', shell: true, encoding: 'utf-8' });\n",
        "    sp.stdout.on('data', data => console.log(data.toString()));\n",
        "    sp.stderr.on('data', data => console.error(data.toString()));\n",
        "    sp.on('close', () => $$.done());\n",
        "};\n",
        "var run_async = async (pf) => {\n",
        "  $$.async();\n",
        "  await pf();\n",
        "  $$.done();\n",
        "};\n",
        "sh('npm init -y');"
      ],
      "execution_count": null,
      "outputs": []
    },
    {
      "cell_type": "code",
      "metadata": {
        "id": "1oqifUNtdID-",
        "colab": {
          "base_uri": "https://localhost:8080/"
        },
        "outputId": "f82de721-d2d0-4084-bf4c-c4d4309358ed"
      },
      "source": [
        "sh('node -v; npm -v');"
      ],
      "execution_count": 5,
      "outputs": [
        {
          "output_type": "stream",
          "name": "stdout",
          "text": [
            "v14.16.0\n",
            "\n",
            "6.14.8\n",
            "\n"
          ]
        }
      ]
    },
    {
      "cell_type": "code",
      "metadata": {
        "id": "28tLRTVq8xms",
        "colab": {
          "base_uri": "https://localhost:8080/"
        },
        "outputId": "9f6ae45d-f316-4145-ab9c-cb6512cada30"
      },
      "source": [
        "sh('npm install @tensorflow/tfjs-node-gpu');\n",
        "sh('npm install node-fetch@2');"
      ],
      "execution_count": 125,
      "outputs": [
        {
          "output_type": "stream",
          "name": "stderr",
          "text": [
            "npm\n",
            " \n",
            "WARN\n",
            " content@1.0.0 No description\n",
            "\n",
            "npm\n",
            " WARN content@1.0.0 No repository field.\n",
            "\n",
            "\n",
            "\n"
          ]
        },
        {
          "output_type": "stream",
          "name": "stdout",
          "text": [
            "+ node-fetch@2.6.7\n",
            "updated 1 package and audited 119 packages in 1.566s\n",
            "\n",
            "\n",
            "9 packages are looking for funding\n",
            "  run `npm fund` for details\n",
            "\n",
            "\n",
            "found 0 vulnerabilities\n",
            "\n",
            "\n"
          ]
        }
      ]
    },
    {
      "cell_type": "code",
      "metadata": {
        "id": "psJPTwp79NXv"
      },
      "source": [
        "var tf = require('@tensorflow/tfjs-node-gpu');\n",
        "tf.backend().isUsingGpuDevice;\n",
        "tf.enableProdMode();\n",
        "\n"
      ],
      "execution_count": 127,
      "outputs": []
    },
    {
      "cell_type": "code",
      "source": [
        "var fetch = require('node-fetch@2');\n",
        "\n",
        "var EPOCHS = 3_000;\n",
        "var ticker = 'AUDUSD=X';\n",
        "\n",
        "$$.async();\n",
        "(async () => {\n",
        "  try {\n",
        "    $$.async();\n",
        "    var response = await fetch({\n",
        "      url: \"https://query1.finance.yahoo.com/v8/finance/chart/AUDUSD=X?interval=1d&range=10y\",\n",
        "      method: 'GET',\n",
        "    });\n",
        "\n",
        "    var data = await response.json();\n",
        "    $$.done();\n",
        "\n",
        "    console.log(data)\n",
        "\n",
        "  } catch (e) {\n",
        "    console.log(\"e\",e)\n",
        "   }\n",
        "\n",
        "})()\n",
        "$$.done();\n",
        "\n",
        "// --------------------------------\n",
        "\n",
        "// var { minToMax, maxToMin } = normalization({\n",
        "//   Xmin: Math.min(...adjustedClose.flat()),\n",
        "//   Xmax: Math.max(...adjustedClose.flat()),\n",
        "//   d1: 0,\n",
        "//   d2: 1,\n",
        "// });"
      ],
      "metadata": {
        "id": "TrK2WyuE8LE4"
      },
      "execution_count": null,
      "outputs": []
    },
    {
      "cell_type": "code",
      "source": [
        "  var model = tf.sequential();\n",
        "\n",
        "  model.add(\n",
        "    tf.layers.dense({\n",
        "      name: 'InputLayer',\n",
        "      units: 300,\n",
        "      inputShape: [20],\n",
        "      activation: 'sigmoid',\n",
        "    })\n",
        "  );\n",
        "\n",
        "  model.add(\n",
        "    tf.layers.dense({\n",
        "      name: 'HiddenLayer2',\n",
        "      units: 300,\n",
        "      activation: 'sigmoid',\n",
        "    })\n",
        "  );\n",
        "\n",
        "  model.add(\n",
        "    tf.layers.dense({ name: 'OutputLayer', units: 5, activation: 'sigmoid' })\n",
        "  );\n",
        "\n",
        "  model.summary();\n",
        "\n",
        "  model.compile({\n",
        "    loss: 'meanSquaredError',\n",
        "    optimizer: tf.train.sgd(0.3),\n",
        "  });"
      ],
      "metadata": {
        "id": "XukBimdF8NWO"
      },
      "execution_count": null,
      "outputs": []
    }
  ]
}